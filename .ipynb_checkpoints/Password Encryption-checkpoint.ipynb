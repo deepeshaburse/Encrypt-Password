{
 "cells": [
  {
   "cell_type": "code",
   "execution_count": 1,
   "id": "2f0426f1",
   "metadata": {},
   "outputs": [],
   "source": [
    "import rsa"
   ]
  },
  {
   "cell_type": "code",
   "execution_count": 2,
   "id": "e744404a",
   "metadata": {},
   "outputs": [],
   "source": [
    "# Generating public and private keys using the method newkeys() that accepts key length as its parameter. \n",
    "# Minimum key length is 16.\n",
    "\n",
    "publickey, privatekey = rsa.newkeys(512)"
   ]
  },
  {
   "cell_type": "code",
   "execution_count": 3,
   "id": "5b7870ec",
   "metadata": {},
   "outputs": [],
   "source": [
    "password = \"Deepesha\""
   ]
  },
  {
   "cell_type": "code",
   "execution_count": 4,
   "id": "ed33bba7",
   "metadata": {},
   "outputs": [],
   "source": [
    "# The method rsa.encrypt is used to encrypt the string.\n",
    "\n",
    "encPass = rsa.encrypt(password.encode(), publickey)"
   ]
  },
  {
   "cell_type": "code",
   "execution_count": 5,
   "id": "b20650a9",
   "metadata": {},
   "outputs": [
    {
     "name": "stdout",
     "output_type": "stream",
     "text": [
      "Password:  Deepesha\n",
      "Encrypted password:  b'\\xd6\\xd9\\xc8\\x8a\\xb0\\x1e\\x812\\x17\\xa5\\xb1n\\x93V\\x8dJ\\x84\\x12H;b.\\xf7U\\x1b\\xa9\\xa8\\x83{A~6\\xc6\\xe2\\xf2\\x19{\\xbc&\\x9a\\x01A\\xfawF\\xa2\\x1b)\\x0b\\xa0p~R\\xa3s\\xa6\\xcd\\xc8\\x0c\\r\\x1a\\x92\\x9b\\xa5'\n"
     ]
    }
   ],
   "source": [
    "print(\"Password: \", password)\n",
    "print(\"Encrypted password: \", encPass)"
   ]
  },
  {
   "cell_type": "code",
   "execution_count": 6,
   "id": "d1ead66f",
   "metadata": {},
   "outputs": [
    {
     "name": "stdout",
     "output_type": "stream",
     "text": [
      "Deepesha\n"
     ]
    }
   ],
   "source": [
    "# The encrypted password can be decrypted using the rsa.decrypt() method and using the private key only. \n",
    "# Public key cannot be used for decryption.\n",
    "# decode() method is used to convert the decrypted message to string.\n",
    "# rsa.decrypt() returns encoded byte string.\n",
    "\n",
    "decPass = rsa.decrypt(encPass, privatekey).decode()\n",
    "\n",
    "print(decPass)"
   ]
  }
 ],
 "metadata": {
  "kernelspec": {
   "display_name": "Python 3 (ipykernel)",
   "language": "python",
   "name": "python3"
  },
  "language_info": {
   "codemirror_mode": {
    "name": "ipython",
    "version": 3
   },
   "file_extension": ".py",
   "mimetype": "text/x-python",
   "name": "python",
   "nbconvert_exporter": "python",
   "pygments_lexer": "ipython3",
   "version": "3.9.7"
  }
 },
 "nbformat": 4,
 "nbformat_minor": 5
}
